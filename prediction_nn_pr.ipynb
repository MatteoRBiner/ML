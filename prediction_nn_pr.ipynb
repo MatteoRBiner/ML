{
 "cells": [
  {
   "cell_type": "markdown",
   "source": [
    "# Long short-term memory"
   ],
   "metadata": {
    "collapsed": false
   },
   "id": "a0f1d5897c64d467"
  },
  {
   "cell_type": "code",
   "execution_count": 93,
   "id": "initial_id",
   "metadata": {
    "collapsed": true,
    "ExecuteTime": {
     "end_time": "2023-12-17T14:16:57.468955500Z",
     "start_time": "2023-12-17T14:16:56.359208500Z"
    }
   },
   "outputs": [],
   "source": [
    "import torch\n",
    "from sklearn.model_selection import train_test_split\n",
    "import pandas as pd\n",
    "import numpy as np\n",
    "import matplotlib.pyplot as plt\n",
    "\n",
    "def read_data(path):\n",
    "    full_data = pd.read_excel(path)\n",
    "    full_data.drop(columns=[1], axis=1, inplace=True)\n",
    "    return full_data\n",
    "\n",
    "full_data = read_data(\"./data/relative_wages_communes.xlsx\")\n",
    "target = full_data[2021]\n",
    "full_X = full_data.drop(columns=[2021], axis=1)\n",
    "X_train_all, X_test, y_train_all, y_test = train_test_split(full_X, target, train_size=0.8, shuffle=True, random_state=42)\n",
    "X_train, X_val, y_train, y_val = train_test_split(X_train_all, y_train_all, train_size=0.8, shuffle=True, random_state=42)"
   ]
  },
  {
   "cell_type": "code",
   "execution_count": 95,
   "outputs": [],
   "source": [
    "X_train, y_train = X_train.to_numpy(), y_train.to_numpy()\n",
    "X_train = X_train.reshape((-1, 9, 1))\n",
    "y_train = y_train.reshape((-1, 1))\n",
    "X_val, y_val = X_val.to_numpy(), y_val.to_numpy()\n",
    "X_val = X_val.reshape((-1, 9, 1))\n",
    "y_val = y_val.reshape((-1, 1))\n",
    "X_test, y_test = X_test.to_numpy(), y_test.to_numpy()\n",
    "X_test = X_test.reshape((-1, 9, 1))\n",
    "y_test = y_test.reshape((-1, 1))"
   ],
   "metadata": {
    "collapsed": false,
    "ExecuteTime": {
     "end_time": "2023-12-17T14:17:32.882678400Z",
     "start_time": "2023-12-17T14:17:32.866989700Z"
    }
   },
   "id": "eecadd24be364f44"
  },
  {
   "cell_type": "code",
   "execution_count": 52,
   "outputs": [],
   "source": [
    "def get_dataloader(X,y, batch_size, shuffle ):\n",
    "    # fill your code\n",
    "    train_x_tensor = torch.tensor(X, dtype=torch.float)\n",
    "    train_y_tensor = torch.tensor(y, dtype=torch.float)\n",
    "    train_tensor_dataset = torch.utils.data.TensorDataset(train_x_tensor, train_y_tensor)\n",
    "    dataloader = torch.utils.data.DataLoader(train_tensor_dataset,\n",
    "                                             batch_size=batch_size,\n",
    "                                             shuffle=shuffle)\n",
    "    return dataloader"
   ],
   "metadata": {
    "collapsed": false,
    "ExecuteTime": {
     "end_time": "2023-12-17T13:15:33.179854600Z",
     "start_time": "2023-12-17T13:15:33.161194100Z"
    }
   },
   "id": "ff5f4d0965f5edec"
  },
  {
   "cell_type": "code",
   "execution_count": 53,
   "outputs": [],
   "source": [
    "train_dataloader = get_dataloader(X_train, y_train, batch_size = 16, shuffle=True)\n",
    "val_dataloader = get_dataloader(X_val, y_val, batch_size = y_val.shape[0], shuffle=False)\n",
    "test_dataloader = get_dataloader(X_test, y_test, batch_size = y_test.shape[0], shuffle=True)"
   ],
   "metadata": {
    "collapsed": false,
    "ExecuteTime": {
     "end_time": "2023-12-17T13:15:34.386980600Z",
     "start_time": "2023-12-17T13:15:34.368715200Z"
    }
   },
   "id": "d37aa5f5bc25c2fc"
  },
  {
   "cell_type": "code",
   "execution_count": 60,
   "outputs": [],
   "source": [
    "class NeuralNetwork(torch.nn.Module):\n",
    "    \"\"\"\n",
    "    Simple two layer neural network for regression\n",
    "    \"\"\"\n",
    "    def __init__(self, input_size, hidden_size, num_layers):\n",
    "        super().__init__()\n",
    "\n",
    "        self.hidden_size = hidden_size\n",
    "        self.num_layers = num_layers\n",
    "        self.lstm = torch.nn.LSTM(input_size=input_size, hidden_size=hidden_size,\n",
    "                                  num_layers=num_layers, batch_first=True)\n",
    "        self.forecast = torch.nn.Linear(hidden_size, 1)\n",
    "\n",
    "    def forward(self, x):\n",
    "        batch_size = x.size(0)\n",
    "        h0 = torch.zeros(self.num_layers, batch_size, self.hidden_size)\n",
    "        c0 = torch.zeros(self.num_layers, batch_size, self.hidden_size)\n",
    "        out, (hn, cn) = self.lstm(x, (h0, c0))\n",
    "        out = self.forecast(out[:, -1, :])\n",
    "        return out"
   ],
   "metadata": {
    "collapsed": false,
    "ExecuteTime": {
     "end_time": "2023-12-17T13:16:12.155355400Z",
     "start_time": "2023-12-17T13:16:12.143304900Z"
    }
   },
   "id": "32bfffbbcfffc1bb"
  },
  {
   "cell_type": "code",
   "execution_count": 61,
   "outputs": [],
   "source": [
    "lstm_model = NeuralNetwork(1, 4, 1)"
   ],
   "metadata": {
    "collapsed": false,
    "ExecuteTime": {
     "end_time": "2023-12-17T13:16:13.374851800Z",
     "start_time": "2023-12-17T13:16:13.353201800Z"
    }
   },
   "id": "7c4d848c9d913335"
  },
  {
   "cell_type": "code",
   "execution_count": 62,
   "outputs": [],
   "source": [
    "# -------------------- Training  Step----------------------------\n",
    "def training_step(model, input_data, optimizer, loss_fn):\n",
    "    # reset gradients of the optimizer\n",
    "    optimizer.zero_grad()\n",
    "\n",
    "    # unfold data\n",
    "    x_batch, y_batch = input_data\n",
    "\n",
    "    # get predictions\n",
    "    y_pred = model(x_batch)\n",
    "\n",
    "    # calculate loss\n",
    "    loss = loss_fn(y_pred, y_batch)\n",
    "\n",
    "    # compute gradients \n",
    "    loss.backward()\n",
    "\n",
    "    # optimise network\n",
    "    optimizer.step()\n",
    "\n",
    "    return loss.data.numpy()"
   ],
   "metadata": {
    "collapsed": false,
    "ExecuteTime": {
     "end_time": "2023-12-17T13:16:20.856869200Z",
     "start_time": "2023-12-17T13:16:20.841600Z"
    }
   },
   "id": "8d0a24bacef61b99"
  },
  {
   "cell_type": "code",
   "execution_count": 63,
   "outputs": [],
   "source": [
    "def evaluation_step(model, input_data, loss_fn):\n",
    "    # when we use torch.no_grad pytorch doesn't store information\n",
    "    # that is required to calculate gradients so is faster\n",
    "    with torch.no_grad():\n",
    "        x_batch, y_batch = input_data\n",
    "        y_pred = model(x_batch)\n",
    "        loss = loss_fn(y_pred, y_batch)\n",
    "\n",
    "    return loss.data.numpy()"
   ],
   "metadata": {
    "collapsed": false,
    "ExecuteTime": {
     "end_time": "2023-12-17T13:16:21.844634200Z",
     "start_time": "2023-12-17T13:16:21.831601300Z"
    }
   },
   "id": "5f7cccc7ca14ae0e"
  },
  {
   "cell_type": "code",
   "execution_count": 64,
   "outputs": [],
   "source": [
    "import time\n",
    "\n",
    "\n",
    "# -------------------- Train  Loop----------------------------\n",
    "def train_loop(train_dataloader, val_dataloader, patient, epochs, model, optimizer, loss_fn):\n",
    "    best_loss = np.inf\n",
    "    consecutive_epoch = 0\n",
    "    best_epoch = 0\n",
    "\n",
    "    train_history = []\n",
    "    val_history = []\n",
    "    for epoch in range(epochs): # iterate over epoch    \n",
    "\n",
    "        # -------------------- Training on each epoch ----------------------------\n",
    "        total_step = len(train_dataloader)\n",
    "        accumulated_loss = 0 # monitor loss during training\n",
    "        start = time.time()\n",
    "        for step in range(total_step): # iterate over batch\n",
    "            batch_data = next(iter(train_dataloader)) # get a batch\n",
    "            loss = training_step(model,batch_data,optimizer,loss_fn) # train model using a single batch\n",
    "            accumulated_loss = (step * accumulated_loss + loss)/(step+1)\n",
    "        end = time.time()\n",
    "        total_time = end - start\n",
    "        train_history += [{\"loss\":accumulated_loss, \"epoch\": epoch, \"set\":\"train\"}]\n",
    "\n",
    "        # -------------------- Monitor Error Validation set ----------------------------\n",
    "        val_data = next(iter(val_dataloader))\n",
    "        val_loss = evaluation_step(model, val_data, loss_fn)\n",
    "        val_history += [{\"loss\":val_loss, \"epoch\": epoch, \"set\":\"val\"}]\n",
    "        if epoch % 1 == 0:\n",
    "            print(f\"Epoch {epoch}/{epochs}:({total_time:.3f} sec)  loss:{accumulated_loss:.3f}, val_loss:{val_loss:.3f}\")\n",
    "\n",
    "        # -------------------- Early Stoping ----------------------------\n",
    "        if val_loss > best_loss:\n",
    "            consecutive_epoch += 1\n",
    "        else:\n",
    "            best_loss = val_loss # we have an improvement\n",
    "            consecutive_epoch = 0 # reset counter\n",
    "            best_epoch = epoch\n",
    "            best_weights = model.state_dict()\n",
    "\n",
    "        if consecutive_epoch > patient:\n",
    "            break\n",
    "    val_history_df = pd.DataFrame(val_history)\n",
    "    train_history_df = pd.DataFrame(train_history)\n",
    "    return model, val_history_df, train_history_df, best_loss, best_epoch, best_weights"
   ],
   "metadata": {
    "collapsed": false,
    "ExecuteTime": {
     "end_time": "2023-12-17T13:16:22.846417100Z",
     "start_time": "2023-12-17T13:16:22.814669300Z"
    }
   },
   "id": "687079329d2787bc"
  },
  {
   "cell_type": "code",
   "execution_count": 65,
   "outputs": [
    {
     "name": "stdout",
     "output_type": "stream",
     "text": [
      "Epoch 0/10:(0.889 sec)  loss:0.034, val_loss:0.003\n",
      "Epoch 1/10:(0.718 sec)  loss:0.003, val_loss:0.003\n",
      "Epoch 2/10:(0.692 sec)  loss:0.002, val_loss:0.002\n",
      "Epoch 3/10:(0.686 sec)  loss:0.002, val_loss:0.002\n",
      "Epoch 4/10:(0.706 sec)  loss:0.002, val_loss:0.001\n",
      "Epoch 5/10:(0.717 sec)  loss:0.001, val_loss:0.001\n",
      "Epoch 6/10:(0.682 sec)  loss:0.001, val_loss:0.001\n",
      "Epoch 7/10:(0.683 sec)  loss:0.001, val_loss:0.001\n",
      "Epoch 8/10:(1.012 sec)  loss:0.001, val_loss:0.001\n",
      "Epoch 9/10:(0.666 sec)  loss:0.001, val_loss:0.001\n"
     ]
    }
   ],
   "source": [
    "lr = 0.001\n",
    "\n",
    "\n",
    "optimizer = torch.optim.Adam(lstm_model.parameters(), lr=lr)\n",
    "loss_fn = torch.nn.MSELoss()\n",
    "\n",
    "out = train_loop(train_dataloader = train_dataloader,\n",
    "                 val_dataloader = val_dataloader,\n",
    "                 patient = 3,\n",
    "                 epochs = 10,\n",
    "                 model = lstm_model,\n",
    "                 optimizer= optimizer,\n",
    "                 loss_fn= loss_fn)\n",
    "\n",
    "model, val_history_es_5, train_history_es_5, best_loss, best_epoch, best_weights = out"
   ],
   "metadata": {
    "collapsed": false,
    "ExecuteTime": {
     "end_time": "2023-12-17T13:16:31.456691400Z",
     "start_time": "2023-12-17T13:16:23.915697700Z"
    }
   },
   "id": "2685b0a2d5ca1b2c"
  },
  {
   "cell_type": "code",
   "execution_count": 66,
   "outputs": [],
   "source": [
    "test_data = next(iter(test_dataloader))\n",
    "loss = evaluation_step(lstm_model, test_data, loss_fn)"
   ],
   "metadata": {
    "collapsed": false,
    "ExecuteTime": {
     "end_time": "2023-12-17T13:19:30.107058Z",
     "start_time": "2023-12-17T13:19:30.029000500Z"
    }
   },
   "id": "ce7e5c68a8a39ed8"
  },
  {
   "cell_type": "code",
   "execution_count": 67,
   "outputs": [
    {
     "data": {
      "text/plain": "array(0.00077832, dtype=float32)"
     },
     "execution_count": 67,
     "metadata": {},
     "output_type": "execute_result"
    }
   ],
   "source": [
    "loss"
   ],
   "metadata": {
    "collapsed": false,
    "ExecuteTime": {
     "end_time": "2023-12-17T13:19:36.030622800Z",
     "start_time": "2023-12-17T13:19:35.935299200Z"
    }
   },
   "id": "c9868dbeefc86fd1"
  },
  {
   "cell_type": "code",
   "execution_count": 77,
   "outputs": [],
   "source": [
    "def prediction(model, input_data):\n",
    "    # when we use torch.no_grad pytorch doesn't store information\n",
    "    # that is required to calculate gradients so is faster\n",
    "    with torch.no_grad():\n",
    "        x_batch, y_batch = input_data\n",
    "        y_pred = model(x_batch)\n",
    "        \n",
    "    return y_pred"
   ],
   "metadata": {
    "collapsed": false,
    "ExecuteTime": {
     "end_time": "2023-12-17T13:34:12.437071900Z",
     "start_time": "2023-12-17T13:34:12.415892900Z"
    }
   },
   "id": "e011e1bead52dc08"
  },
  {
   "cell_type": "code",
   "execution_count": 88,
   "outputs": [],
   "source": [
    "final_prediction = prediction(lstm_model, test_data)\n",
    "mean_prediction = final_prediction.mean()\n",
    "_, target = test_data\n",
    "mean_target = target.mean()"
   ],
   "metadata": {
    "collapsed": false,
    "ExecuteTime": {
     "end_time": "2023-12-17T13:42:16.886595100Z",
     "start_time": "2023-12-17T13:42:16.870133100Z"
    }
   },
   "id": "29a43a5ec426c2f1"
  },
  {
   "cell_type": "code",
   "execution_count": 91,
   "outputs": [
    {
     "data": {
      "text/plain": "tensor(0.0014)"
     },
     "execution_count": 91,
     "metadata": {},
     "output_type": "execute_result"
    }
   ],
   "source": [
    "error = abs(mean_prediction - mean_target)\n",
    "error"
   ],
   "metadata": {
    "collapsed": false,
    "ExecuteTime": {
     "end_time": "2023-12-17T13:52:00.820163500Z",
     "start_time": "2023-12-17T13:52:00.772869600Z"
    }
   },
   "id": "a3326f7978698b27"
  },
  {
   "cell_type": "code",
   "execution_count": 96,
   "outputs": [
    {
     "data": {
      "text/plain": "tensor([[0.0035]])"
     },
     "execution_count": 96,
     "metadata": {},
     "output_type": "execute_result"
    }
   ],
   "source": [
    "data_france = read_data(\"./data/relative_wages_total.xlsx\")\n",
    "y_france = data_france[2021]\n",
    "X_france = data_france.drop(columns=[2021], axis=1)\n",
    "X_france, y_france = X_france.to_numpy(), y_france.to_numpy()\n",
    "X_france = X_france.reshape((-1, 9, 1))\n",
    "y_france = y_france.reshape((-1, 1))\n",
    "france_dataloader = get_dataloader(X_france, y_france, batch_size = y_france.shape[0], shuffle=True)\n",
    "france_data = next(iter(france_dataloader))\n",
    "france_prediction = prediction(lstm_model, france_data)\n",
    "_, target_france = france_data\n",
    "error_france = abs(france_prediction - target_france)\n",
    "error_france"
   ],
   "metadata": {
    "collapsed": false,
    "ExecuteTime": {
     "end_time": "2023-12-17T14:25:22.646132800Z",
     "start_time": "2023-12-17T14:25:22.588500800Z"
    }
   },
   "id": "da41db566c073053"
  },
  {
   "cell_type": "code",
   "execution_count": 110,
   "outputs": [
    {
     "data": {
      "text/plain": "tensor([[0.8553]])"
     },
     "execution_count": 110,
     "metadata": {},
     "output_type": "execute_result"
    }
   ],
   "source": [
    "france_prediction"
   ],
   "metadata": {
    "collapsed": false,
    "ExecuteTime": {
     "end_time": "2023-12-17T14:45:51.531327300Z",
     "start_time": "2023-12-17T14:45:51.495049Z"
    }
   },
   "id": "36075c1cb9931134"
  },
  {
   "cell_type": "markdown",
   "source": [
    "Prediction for France"
   ],
   "metadata": {
    "collapsed": false
   },
   "id": "2d5e0b7c9e19484d"
  },
  {
   "cell_type": "code",
   "execution_count": 132,
   "outputs": [
    {
     "data": {
      "text/plain": "<Figure size 640x480 with 1 Axes>",
      "image/png": "[encoded data removed]"
     },
     "metadata": {},
     "output_type": "display_data"
    }
   ],
   "source": [
    "X_correct = data_france.to_numpy()\n",
    "prediction_2021 = france_prediction.numpy()\n",
    "X_2020 = X_correct[0, :9]\n",
    "X_prediction_2021 = np.concatenate((X_2020, prediction_2021[0]))\n",
    "plt.plot(X_correct[0], label='Actual_relative_wage')\n",
    "plt.plot(X_prediction_2021, label='Predicted_relative_wage')\n",
    "plt.xlabel('Year')\n",
    "plt.ylabel('Relative Wage')\n",
    "plt.legend()\n",
    "plt.show()"
   ],
   "metadata": {
    "collapsed": false,
    "ExecuteTime": {
     "end_time": "2023-12-17T15:01:05.679017100Z",
     "start_time": "2023-12-17T15:01:05.501536900Z"
    }
   },
   "id": "ee8ea8509839ede2"
  },
  {
   "cell_type": "code",
   "execution_count": null,
   "outputs": [],
   "source": [],
   "metadata": {
    "collapsed": false
   },
   "id": "662d2fc9acd8ef14"
  },
  {
   "cell_type": "markdown",
   "source": [
    "# Polynomial Regression"
   ],
   "metadata": {
    "collapsed": false
   },
   "id": "aef11d9078571fd2"
  },
  {
   "cell_type": "code",
   "execution_count": 134,
   "outputs": [
    {
     "data": {
      "text/plain": "    1         2012      2013      2014      2015      2016      2017  \\\n0  01004  0.788467  0.776413  0.770449  0.791226  0.772972  0.786808   \n1  01007  0.807766  0.797953  0.811816  0.805249  0.807273  0.859143   \n2  01014  0.767019  0.745627  0.714473  0.709948  0.678058  0.671657   \n3  01024  0.823769  0.820816  0.822386  0.814706  0.820175  0.826973   \n4  01025  0.827822  0.842692  0.838516  0.851972  0.849967  0.869575   \n\n       2018      2019      2020      2021  \n0  0.780530  0.789157  0.805057  0.798666  \n1  0.834901  0.841794  0.844538  0.835983  \n2  0.811562  0.797593  0.782947  0.806123  \n3  0.815108  0.848995  0.829507  0.836226  \n4  0.851162  0.854047  0.842680  0.833443  ",
      "text/html": "<div>\n<style scoped>\n    .dataframe tbody tr th:only-of-type {\n        vertical-align: middle;\n    }\n\n    .dataframe tbody tr th {\n        vertical-align: top;\n    }\n\n    .dataframe thead th {\n        text-align: right;\n    }\n</style>\n<table border=\"1\" class=\"dataframe\">\n  <thead>\n    <tr style=\"text-align: right;\">\n      <th></th>\n      <th>1</th>\n      <th>2012</th>\n      <th>2013</th>\n      <th>2014</th>\n      <th>2015</th>\n      <th>2016</th>\n      <th>2017</th>\n      <th>2018</th>\n      <th>2019</th>\n      <th>2020</th>\n      <th>2021</th>\n    </tr>\n  </thead>\n  <tbody>\n    <tr>\n      <th>0</th>\n      <td>01004</td>\n      <td>0.788467</td>\n      <td>0.776413</td>\n      <td>0.770449</td>\n      <td>0.791226</td>\n      <td>0.772972</td>\n      <td>0.786808</td>\n      <td>0.780530</td>\n      <td>0.789157</td>\n      <td>0.805057</td>\n      <td>0.798666</td>\n    </tr>\n    <tr>\n      <th>1</th>\n      <td>01007</td>\n      <td>0.807766</td>\n      <td>0.797953</td>\n      <td>0.811816</td>\n      <td>0.805249</td>\n      <td>0.807273</td>\n      <td>0.859143</td>\n      <td>0.834901</td>\n      <td>0.841794</td>\n      <td>0.844538</td>\n      <td>0.835983</td>\n    </tr>\n    <tr>\n      <th>2</th>\n      <td>01014</td>\n      <td>0.767019</td>\n      <td>0.745627</td>\n      <td>0.714473</td>\n      <td>0.709948</td>\n      <td>0.678058</td>\n      <td>0.671657</td>\n      <td>0.811562</td>\n      <td>0.797593</td>\n      <td>0.782947</td>\n      <td>0.806123</td>\n    </tr>\n    <tr>\n      <th>3</th>\n      <td>01024</td>\n      <td>0.823769</td>\n      <td>0.820816</td>\n      <td>0.822386</td>\n      <td>0.814706</td>\n      <td>0.820175</td>\n      <td>0.826973</td>\n      <td>0.815108</td>\n      <td>0.848995</td>\n      <td>0.829507</td>\n      <td>0.836226</td>\n    </tr>\n    <tr>\n      <th>4</th>\n      <td>01025</td>\n      <td>0.827822</td>\n      <td>0.842692</td>\n      <td>0.838516</td>\n      <td>0.851972</td>\n      <td>0.849967</td>\n      <td>0.869575</td>\n      <td>0.851162</td>\n      <td>0.854047</td>\n      <td>0.842680</td>\n      <td>0.833443</td>\n    </tr>\n  </tbody>\n</table>\n</div>"
     },
     "execution_count": 134,
     "metadata": {},
     "output_type": "execute_result"
    }
   ],
   "source": [
    "import numpy as np\n",
    "import pandas as pd\n",
    "import matplotlib.pyplot as plt\n",
    "import warnings\n",
    "warnings.filterwarnings('ignore')\n",
    "\n",
    "from sklearn.model_selection import train_test_split, cross_val_score\n",
    "from sklearn.preprocessing import PolynomialFeatures\n",
    "from sklearn.linear_model import LinearRegression\n",
    "\n",
    "# let's load the data set and let's have a look at it\n",
    "data = pd.read_excel(\"./data/relative_wages_communes.xlsx\")\n",
    "data.head()"
   ],
   "metadata": {
    "collapsed": false,
    "ExecuteTime": {
     "end_time": "2023-12-17T15:23:57.898596900Z",
     "start_time": "2023-12-17T15:23:56.197582700Z"
    }
   },
   "id": "7331ed3efdb0682f"
  },
  {
   "cell_type": "code",
   "execution_count": 135,
   "outputs": [
    {
     "data": {
      "text/plain": "       2012      2013      2014      2015      2016      2017      2018  \\\n0  0.788467  0.776413  0.770449  0.791226  0.772972  0.786808  0.780530   \n1  0.807766  0.797953  0.811816  0.805249  0.807273  0.859143  0.834901   \n2  0.767019  0.745627  0.714473  0.709948  0.678058  0.671657  0.811562   \n3  0.823769  0.820816  0.822386  0.814706  0.820175  0.826973  0.815108   \n4  0.827822  0.842692  0.838516  0.851972  0.849967  0.869575  0.851162   \n\n       2019      2020      2021  \n0  0.789157  0.805057  0.798666  \n1  0.841794  0.844538  0.835983  \n2  0.797593  0.782947  0.806123  \n3  0.848995  0.829507  0.836226  \n4  0.854047  0.842680  0.833443  ",
      "text/html": "<div>\n<style scoped>\n    .dataframe tbody tr th:only-of-type {\n        vertical-align: middle;\n    }\n\n    .dataframe tbody tr th {\n        vertical-align: top;\n    }\n\n    .dataframe thead th {\n        text-align: right;\n    }\n</style>\n<table border=\"1\" class=\"dataframe\">\n  <thead>\n    <tr style=\"text-align: right;\">\n      <th></th>\n      <th>2012</th>\n      <th>2013</th>\n      <th>2014</th>\n      <th>2015</th>\n      <th>2016</th>\n      <th>2017</th>\n      <th>2018</th>\n      <th>2019</th>\n      <th>2020</th>\n      <th>2021</th>\n    </tr>\n  </thead>\n  <tbody>\n    <tr>\n      <th>0</th>\n      <td>0.788467</td>\n      <td>0.776413</td>\n      <td>0.770449</td>\n      <td>0.791226</td>\n      <td>0.772972</td>\n      <td>0.786808</td>\n      <td>0.780530</td>\n      <td>0.789157</td>\n      <td>0.805057</td>\n      <td>0.798666</td>\n    </tr>\n    <tr>\n      <th>1</th>\n      <td>0.807766</td>\n      <td>0.797953</td>\n      <td>0.811816</td>\n      <td>0.805249</td>\n      <td>0.807273</td>\n      <td>0.859143</td>\n      <td>0.834901</td>\n      <td>0.841794</td>\n      <td>0.844538</td>\n      <td>0.835983</td>\n    </tr>\n    <tr>\n      <th>2</th>\n      <td>0.767019</td>\n      <td>0.745627</td>\n      <td>0.714473</td>\n      <td>0.709948</td>\n      <td>0.678058</td>\n      <td>0.671657</td>\n      <td>0.811562</td>\n      <td>0.797593</td>\n      <td>0.782947</td>\n      <td>0.806123</td>\n    </tr>\n    <tr>\n      <th>3</th>\n      <td>0.823769</td>\n      <td>0.820816</td>\n      <td>0.822386</td>\n      <td>0.814706</td>\n      <td>0.820175</td>\n      <td>0.826973</td>\n      <td>0.815108</td>\n      <td>0.848995</td>\n      <td>0.829507</td>\n      <td>0.836226</td>\n    </tr>\n    <tr>\n      <th>4</th>\n      <td>0.827822</td>\n      <td>0.842692</td>\n      <td>0.838516</td>\n      <td>0.851972</td>\n      <td>0.849967</td>\n      <td>0.869575</td>\n      <td>0.851162</td>\n      <td>0.854047</td>\n      <td>0.842680</td>\n      <td>0.833443</td>\n    </tr>\n  </tbody>\n</table>\n</div>"
     },
     "execution_count": 135,
     "metadata": {},
     "output_type": "execute_result"
    }
   ],
   "source": [
    "# let's drop the first column (index of the community)\n",
    "data = data.drop(data.columns[0], axis=1)\n",
    "data.head()"
   ],
   "metadata": {
    "collapsed": false,
    "ExecuteTime": {
     "end_time": "2023-12-17T15:24:03.630441800Z",
     "start_time": "2023-12-17T15:24:03.457865Z"
    }
   },
   "id": "12c0d8c0e6bbec25"
  },
  {
   "cell_type": "code",
   "execution_count": 136,
   "outputs": [
    {
     "name": "stdout",
     "output_type": "stream",
     "text": [
      "[2012, 2013, 2014, 2015, 2016, 2017, 2018, 2019, 2020, 2021]\n"
     ]
    }
   ],
   "source": [
    "# let's get the years\n",
    "years = [int(year) for year in data.keys()]\n",
    "print(years)"
   ],
   "metadata": {
    "collapsed": false,
    "ExecuteTime": {
     "end_time": "2023-12-17T15:24:17.944051400Z",
     "start_time": "2023-12-17T15:24:17.837110700Z"
    }
   },
   "id": "a86393057c664e01"
  },
  {
   "cell_type": "code",
   "execution_count": 137,
   "outputs": [
    {
     "name": "stdout",
     "output_type": "stream",
     "text": [
      "[[0.78846661 0.77641347 0.77044853 ... 0.78915742 0.80505719 0.79866613]\n",
      " [0.80776629 0.79795256 0.81181634 ... 0.84179446 0.84453772 0.83598335]\n",
      " [0.7670195  0.74562676 0.71447285 ... 0.79759329 0.78294663 0.80612313]\n",
      " ...\n",
      " [0.899415   0.90860109 0.90913408 ... 0.91241347 0.94322858 0.94369388]\n",
      " [0.94613963 0.9296944  0.93069291 ... 0.93792325 0.93928956 0.95113812]\n",
      " [0.93039526 0.94104661 0.9198494  ... 0.9362317  0.90780309 0.91089384]]\n"
     ]
    }
   ],
   "source": [
    "# and let's save the data in a compact way\n",
    "relative_income = data.values\n",
    "print(relative_income)\n",
    "#print(relative_income.shape)"
   ],
   "metadata": {
    "collapsed": false,
    "ExecuteTime": {
     "end_time": "2023-12-17T15:24:30.232151800Z",
     "start_time": "2023-12-17T15:24:30.139208800Z"
    }
   },
   "id": "cdd916a41c2db2fe"
  },
  {
   "cell_type": "code",
   "execution_count": 138,
   "outputs": [],
   "source": [
    "# let's split the two last years to check how our prediction performs\n",
    "\n",
    "prediction_year = years[-2:]\n",
    "#print(prediction_year)\n",
    "years = years[:-2]\n",
    "#print(years)\n",
    "years = np.array(years)\n",
    "#print(years)\n",
    "#print(years.shape)\n",
    "\n",
    "prediction_income = relative_income[:,-2:]\n",
    "#print(prediction_income)\n",
    "relative_income = relative_income[:, :-2]\n",
    "#print(relative_income)\n",
    "#print(relative_income.shape)"
   ],
   "metadata": {
    "collapsed": false,
    "ExecuteTime": {
     "end_time": "2023-12-17T15:24:41.965340800Z",
     "start_time": "2023-12-17T15:24:41.871666800Z"
    }
   },
   "id": "fd18d0aed2267e14"
  },
  {
   "cell_type": "code",
   "execution_count": 139,
   "outputs": [
    {
     "data": {
      "text/plain": "<Figure size 640x480 with 1 Axes>",
      "image/png": "[encoded data removed]"
     },
     "metadata": {},
     "output_type": "display_data"
    }
   ],
   "source": [
    "# let's visualize the first 100 data points of the set to get some intuition about it\n",
    "for i in range(100):\n",
    "    plt.scatter(years, relative_income[i], color='blue')\n",
    "\n",
    "plt.xlabel('Year')\n",
    "plt.ylabel('Relative Income')\n",
    "plt.show()"
   ],
   "metadata": {
    "collapsed": false,
    "ExecuteTime": {
     "end_time": "2023-12-17T15:24:59.711230400Z",
     "start_time": "2023-12-17T15:24:57.654030Z"
    }
   },
   "id": "2fb5222301d5e91c"
  },
  {
   "cell_type": "code",
   "execution_count": 140,
   "outputs": [
    {
     "data": {
      "text/plain": "<Figure size 640x480 with 1 Axes>",
      "image/png": "[encoded data removed]"
     },
     "metadata": {},
     "output_type": "display_data"
    }
   ],
   "source": [
    "# in order to get one modell for all communities we can combine the data by for example taking the mean (which is a bit careless since not all communities are of the same size)\n",
    "combined_income = np.mean(relative_income, axis=0)\n",
    "\n",
    "# let's visualize the data now\n",
    "plt.scatter(years, combined_income, color='blue')\n",
    "\n",
    "plt.xlabel('Year')\n",
    "plt.ylabel('Relative Income')\n",
    "plt.show()"
   ],
   "metadata": {
    "collapsed": false,
    "ExecuteTime": {
     "end_time": "2023-12-17T15:25:13.643207800Z",
     "start_time": "2023-12-17T15:25:13.365648900Z"
    }
   },
   "id": "14c61b34ed205102"
  },
  {
   "cell_type": "code",
   "execution_count": 141,
   "outputs": [
    {
     "name": "stdout",
     "output_type": "stream",
     "text": [
      "The best degree is: 2\n"
     ]
    }
   ],
   "source": [
    "# let's split the data for the k-Fold cross validation to find the best degree for the polynomial regression\n",
    "X_train, X_val, y_train, y_val = train_test_split(years, combined_income, test_size=0.2, random_state=42)\n",
    "\n",
    "# let's choose a range of degree candidates\n",
    "degree_candidates = range(1, 11)\n",
    "\n",
    "# let's intialize variables for the best degree and the lowest error\n",
    "best_degree = None\n",
    "best_error = float('inf')\n",
    "\n",
    "for degree in degree_candidates:\n",
    "    # create polynomial features\n",
    "    poly_features = PolynomialFeatures(degree=degree)\n",
    "    X_poly_train = poly_features.fit_transform(X_train.reshape(-1, 1))\n",
    "\n",
    "    model = LinearRegression()\n",
    "\n",
    "    # let's do a k-fold cross validation and calculate the mean squared error\n",
    "    cv_scores = -cross_val_score(model, X_poly_train, y_train, cv=5, scoring='neg_mean_squared_error')\n",
    "\n",
    "    # calculate the average cross validation error\n",
    "    avg_error = np.mean(cv_scores)\n",
    "\n",
    "    # update the best degree, if the we find a smaller error\n",
    "    if avg_error < best_error:\n",
    "        best_error = avg_error\n",
    "        best_degree = degree\n",
    "\n",
    "print(f'The best degree is: {best_degree}')"
   ],
   "metadata": {
    "collapsed": false,
    "ExecuteTime": {
     "end_time": "2023-12-17T15:25:28.868946200Z",
     "start_time": "2023-12-17T15:25:28.621742700Z"
    }
   },
   "id": "89f1bb74c614cd22"
  },
  {
   "cell_type": "code",
   "execution_count": 142,
   "outputs": [
    {
     "data": {
      "text/plain": "<Figure size 640x480 with 1 Axes>",
      "image/png": "[encoded data removed]"
     },
     "metadata": {},
     "output_type": "display_data"
    }
   ],
   "source": [
    "# now we found the best degree and we can start with the polynomial regression over the whole data of the years 2012-2019, afterwards we can evaluate the model with data from the years 2020 and 2021\n",
    "degree = best_degree\n",
    "poly_features = PolynomialFeatures(degree=degree)\n",
    "X_poly = poly_features.fit_transform(years.reshape(-1, 1))\n",
    "\n",
    "model_combined = LinearRegression()\n",
    "model_combined.fit(X_poly, combined_income)\n",
    "\n",
    "# prediction for the future years\n",
    "future_years = np.array(prediction_year).reshape(-1, 1)\n",
    "future_years_poly = poly_features.transform(future_years)\n",
    "future_years_y = model_combined.predict(future_years_poly)\n",
    "\n",
    "# we can also get the effective values from the data set\n",
    "combined_income_effective = np.mean(prediction_income, axis=0)\n",
    "\n",
    "\n",
    "# let's generate x-values for the prediction, then create the polynomial features and do the prediction:\n",
    "x_values = np.linspace(min(years), max(years)+2, 100)\n",
    "x_values_poly = poly_features.transform(x_values.reshape(-1, 1))\n",
    "y_values_pred = model_combined.predict(x_values_poly)\n",
    "\n",
    "# visaualization\n",
    "plt.scatter(years, combined_income, label='Relative Income 2012-2019', color='blue')\n",
    "plt.plot(x_values, y_values_pred, label=f'Trained Model: Polynomial of degree {degree}', linestyle='--', color='red')\n",
    "plt.scatter(prediction_year, combined_income_effective, label='Effective relative Income 2020-2021', color='green')\n",
    "\n",
    "plt.xlabel('Year')\n",
    "plt.ylabel('Relative Income')\n",
    "plt.legend()\n",
    "plt.show()"
   ],
   "metadata": {
    "collapsed": false,
    "ExecuteTime": {
     "end_time": "2023-12-17T15:25:41.828079700Z",
     "start_time": "2023-12-17T15:25:41.389505400Z"
    }
   },
   "id": "470e77f573ea2fe0"
  },
  {
   "cell_type": "code",
   "execution_count": 143,
   "outputs": [
    {
     "name": "stdout",
     "output_type": "stream",
     "text": [
      "MSE for the years 2020 and 2021: 9.548693951251095e-06\n",
      "R²-value for the years 2020 and 2021: -0.7450833917833399\n"
     ]
    }
   ],
   "source": [
    "from sklearn.metrics import mean_squared_error\n",
    "from sklearn.metrics import r2_score\n",
    "\n",
    "#print(combined_income_effective)\n",
    "#print(future_years_y)\n",
    "\n",
    "# calculate the mean squared error (MSE)\n",
    "mse = mean_squared_error(combined_income_effective, future_years_y)\n",
    "print(f'MSE for the years 2020 and 2021: {mse}')\n",
    "\n",
    "# calculate the R²-value\n",
    "r2_value = r2_score(combined_income_effective, future_years_y)\n",
    "print(f'R²-value for the years 2020 and 2021: {r2_value}')"
   ],
   "metadata": {
    "collapsed": false,
    "ExecuteTime": {
     "end_time": "2023-12-17T15:26:12.421283700Z",
     "start_time": "2023-12-17T15:26:12.255610800Z"
    }
   },
   "id": "96180504bb43365f"
  },
  {
   "cell_type": "markdown",
   "source": [
    "*Evaluation of the Modell and the Prediction*\n",
    "\n",
    "Overall, our model appears to make accurate predictions for the test data (years 2020 and 2021) based on the low Mean Squared Error (MSE). However, it is always crucial to consider the results in context and, if possible, utilize various metrics for a more comprehensive evaluation of model performance. This becomes evident when looking at the R²-value, which appears far from promising."
   ],
   "metadata": {
    "collapsed": false
   },
   "id": "a2f603c532a10ed8"
  },
  {
   "cell_type": "code",
   "execution_count": null,
   "outputs": [],
   "source": [],
   "metadata": {
    "collapsed": false
   },
   "id": "cfb60cd653af121c"
  }
 ],
 "metadata": {
  "kernelspec": {
   "display_name": "Python 3",
   "language": "python",
   "name": "python3"
  },
  "language_info": {
   "codemirror_mode": {
    "name": "ipython",
    "version": 2
   },
   "file_extension": ".py",
   "mimetype": "text/x-python",
   "name": "python",
   "nbconvert_exporter": "python",
   "pygments_lexer": "ipython2",
   "version": "2.7.6"
  }
 },
 "nbformat": 4,
 "nbformat_minor": 5
}
