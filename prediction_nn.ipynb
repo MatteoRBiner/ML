{
 "cells": [
  {
   "cell_type": "code",
   "execution_count": 93,
   "id": "initial_id",
   "metadata": {
    "collapsed": true,
    "ExecuteTime": {
     "end_time": "2023-12-17T14:16:57.468955500Z",
     "start_time": "2023-12-17T14:16:56.359208500Z"
    }
   },
   "outputs": [],
   "source": [
    "import torch\n",
    "from sklearn.model_selection import train_test_split\n",
    "import pandas as pd\n",
    "import numpy as np\n",
    "import matplotlib.pyplot as plt\n",
    "\n",
    "def read_data(path):\n",
    "    full_data = pd.read_excel(path)\n",
    "    full_data.drop(columns=[1], axis=1, inplace=True)\n",
    "    return full_data\n",
    "\n",
    "full_data = read_data(\"./data/relative_wages_communes.xlsx\")\n",
    "target = full_data[2021]\n",
    "full_X = full_data.drop(columns=[2021], axis=1)\n",
    "X_train_all, X_test, y_train_all, y_test = train_test_split(full_X, target, train_size=0.8, shuffle=True, random_state=42)\n",
    "X_train, X_val, y_train, y_val = train_test_split(X_train_all, y_train_all, train_size=0.8, shuffle=True, random_state=42)"
   ]
  },
  {
   "cell_type": "code",
   "execution_count": 95,
   "outputs": [],
   "source": [
    "X_train, y_train = X_train.to_numpy(), y_train.to_numpy()\n",
    "X_train = X_train.reshape((-1, 9, 1))\n",
    "y_train = y_train.reshape((-1, 1))\n",
    "X_val, y_val = X_val.to_numpy(), y_val.to_numpy()\n",
    "X_val = X_val.reshape((-1, 9, 1))\n",
    "y_val = y_val.reshape((-1, 1))\n",
    "X_test, y_test = X_test.to_numpy(), y_test.to_numpy()\n",
    "X_test = X_test.reshape((-1, 9, 1))\n",
    "y_test = y_test.reshape((-1, 1))"
   ],
   "metadata": {
    "collapsed": false,
    "ExecuteTime": {
     "end_time": "2023-12-17T14:17:32.882678400Z",
     "start_time": "2023-12-17T14:17:32.866989700Z"
    }
   },
   "id": "eecadd24be364f44"
  },
  {
   "cell_type": "code",
   "execution_count": 52,
   "outputs": [],
   "source": [
    "def get_dataloader(X,y, batch_size, shuffle ):\n",
    "    # fill your code\n",
    "    train_x_tensor = torch.tensor(X, dtype=torch.float)\n",
    "    train_y_tensor = torch.tensor(y, dtype=torch.float)\n",
    "    train_tensor_dataset = torch.utils.data.TensorDataset(train_x_tensor, train_y_tensor)\n",
    "    dataloader = torch.utils.data.DataLoader(train_tensor_dataset,\n",
    "                                             batch_size=batch_size,\n",
    "                                             shuffle=shuffle)\n",
    "    return dataloader"
   ],
   "metadata": {
    "collapsed": false,
    "ExecuteTime": {
     "end_time": "2023-12-17T13:15:33.179854600Z",
     "start_time": "2023-12-17T13:15:33.161194100Z"
    }
   },
   "id": "ff5f4d0965f5edec"
  },
  {
   "cell_type": "code",
   "execution_count": 53,
   "outputs": [],
   "source": [
    "train_dataloader = get_dataloader(X_train, y_train, batch_size = 16, shuffle=True)\n",
    "val_dataloader = get_dataloader(X_val, y_val, batch_size = y_val.shape[0], shuffle=False)\n",
    "test_dataloader = get_dataloader(X_test, y_test, batch_size = y_test.shape[0], shuffle=True)"
   ],
   "metadata": {
    "collapsed": false,
    "ExecuteTime": {
     "end_time": "2023-12-17T13:15:34.386980600Z",
     "start_time": "2023-12-17T13:15:34.368715200Z"
    }
   },
   "id": "d37aa5f5bc25c2fc"
  },
  {
   "cell_type": "code",
   "execution_count": 60,
   "outputs": [],
   "source": [
    "class NeuralNetwork(torch.nn.Module):\n",
    "    \"\"\"\n",
    "    Simple two layer neural network for regression\n",
    "    \"\"\"\n",
    "    def __init__(self, input_size, hidden_size, num_layers):\n",
    "        super().__init__()\n",
    "\n",
    "        self.hidden_size = hidden_size\n",
    "        self.num_layers = num_layers\n",
    "        self.lstm = torch.nn.LSTM(input_size=input_size, hidden_size=hidden_size,\n",
    "                                  num_layers=num_layers, batch_first=True)\n",
    "        self.forecast = torch.nn.Linear(hidden_size, 1)\n",
    "\n",
    "    def forward(self, x):\n",
    "        batch_size = x.size(0)\n",
    "        h0 = torch.zeros(self.num_layers, batch_size, self.hidden_size)\n",
    "        c0 = torch.zeros(self.num_layers, batch_size, self.hidden_size)\n",
    "        out, (hn, cn) = self.lstm(x, (h0, c0))\n",
    "        out = self.forecast(out[:, -1, :])\n",
    "        return out"
   ],
   "metadata": {
    "collapsed": false,
    "ExecuteTime": {
     "end_time": "2023-12-17T13:16:12.155355400Z",
     "start_time": "2023-12-17T13:16:12.143304900Z"
    }
   },
   "id": "32bfffbbcfffc1bb"
  },
  {
   "cell_type": "code",
   "execution_count": 61,
   "outputs": [],
   "source": [
    "lstm_model = NeuralNetwork(1, 4, 1)"
   ],
   "metadata": {
    "collapsed": false,
    "ExecuteTime": {
     "end_time": "2023-12-17T13:16:13.374851800Z",
     "start_time": "2023-12-17T13:16:13.353201800Z"
    }
   },
   "id": "7c4d848c9d913335"
  },
  {
   "cell_type": "code",
   "execution_count": 62,
   "outputs": [],
   "source": [
    "# -------------------- Training  Step----------------------------\n",
    "def training_step(model, input_data, optimizer, loss_fn):\n",
    "    # reset gradients of the optimizer\n",
    "    optimizer.zero_grad()\n",
    "\n",
    "    # unfold data\n",
    "    x_batch, y_batch = input_data\n",
    "\n",
    "    # get predictions\n",
    "    y_pred = model(x_batch)\n",
    "\n",
    "    # calculate loss\n",
    "    loss = loss_fn(y_pred, y_batch)\n",
    "\n",
    "    # compute gradients \n",
    "    loss.backward()\n",
    "\n",
    "    # optimise network\n",
    "    optimizer.step()\n",
    "\n",
    "    return loss.data.numpy()"
   ],
   "metadata": {
    "collapsed": false,
    "ExecuteTime": {
     "end_time": "2023-12-17T13:16:20.856869200Z",
     "start_time": "2023-12-17T13:16:20.841600Z"
    }
   },
   "id": "8d0a24bacef61b99"
  },
  {
   "cell_type": "code",
   "execution_count": 63,
   "outputs": [],
   "source": [
    "def evaluation_step(model, input_data, loss_fn):\n",
    "    # when we use torch.no_grad pytorch doesn't store information\n",
    "    # that is required to calculate gradients so is faster\n",
    "    with torch.no_grad():\n",
    "        x_batch, y_batch = input_data\n",
    "        y_pred = model(x_batch)\n",
    "        loss = loss_fn(y_pred, y_batch)\n",
    "\n",
    "    return loss.data.numpy()"
   ],
   "metadata": {
    "collapsed": false,
    "ExecuteTime": {
     "end_time": "2023-12-17T13:16:21.844634200Z",
     "start_time": "2023-12-17T13:16:21.831601300Z"
    }
   },
   "id": "5f7cccc7ca14ae0e"
  },
  {
   "cell_type": "code",
   "execution_count": 64,
   "outputs": [],
   "source": [
    "import time\n",
    "\n",
    "\n",
    "# -------------------- Train  Loop----------------------------\n",
    "def train_loop(train_dataloader, val_dataloader, patient, epochs, model, optimizer, loss_fn):\n",
    "    best_loss = np.inf\n",
    "    consecutive_epoch = 0\n",
    "    best_epoch = 0\n",
    "\n",
    "    train_history = []\n",
    "    val_history = []\n",
    "    for epoch in range(epochs): # iterate over epoch    \n",
    "\n",
    "        # -------------------- Training on each epoch ----------------------------\n",
    "        total_step = len(train_dataloader)\n",
    "        accumulated_loss = 0 # monitor loss during training\n",
    "        start = time.time()\n",
    "        for step in range(total_step): # iterate over batch\n",
    "            batch_data = next(iter(train_dataloader)) # get a batch\n",
    "            loss = training_step(model,batch_data,optimizer,loss_fn) # train model using a single batch\n",
    "            accumulated_loss = (step * accumulated_loss + loss)/(step+1)\n",
    "        end = time.time()\n",
    "        total_time = end - start\n",
    "        train_history += [{\"loss\":accumulated_loss, \"epoch\": epoch, \"set\":\"train\"}]\n",
    "\n",
    "        # -------------------- Monitor Error Validation set ----------------------------\n",
    "        val_data = next(iter(val_dataloader))\n",
    "        val_loss = evaluation_step(model, val_data, loss_fn)\n",
    "        val_history += [{\"loss\":val_loss, \"epoch\": epoch, \"set\":\"val\"}]\n",
    "        if epoch % 1 == 0:\n",
    "            print(f\"Epoch {epoch}/{epochs}:({total_time:.3f} sec)  loss:{accumulated_loss:.3f}, val_loss:{val_loss:.3f}\")\n",
    "\n",
    "        # -------------------- Early Stoping ----------------------------\n",
    "        if val_loss > best_loss:\n",
    "            consecutive_epoch += 1\n",
    "        else:\n",
    "            best_loss = val_loss # we have an improvement\n",
    "            consecutive_epoch = 0 # reset counter\n",
    "            best_epoch = epoch\n",
    "            best_weights = model.state_dict()\n",
    "\n",
    "        if consecutive_epoch > patient:\n",
    "            break\n",
    "    val_history_df = pd.DataFrame(val_history)\n",
    "    train_history_df = pd.DataFrame(train_history)\n",
    "    return model, val_history_df, train_history_df, best_loss, best_epoch, best_weights"
   ],
   "metadata": {
    "collapsed": false,
    "ExecuteTime": {
     "end_time": "2023-12-17T13:16:22.846417100Z",
     "start_time": "2023-12-17T13:16:22.814669300Z"
    }
   },
   "id": "687079329d2787bc"
  },
  {
   "cell_type": "code",
   "execution_count": 65,
   "outputs": [
    {
     "name": "stdout",
     "output_type": "stream",
     "text": [
      "Epoch 0/10:(0.889 sec)  loss:0.034, val_loss:0.003\n",
      "Epoch 1/10:(0.718 sec)  loss:0.003, val_loss:0.003\n",
      "Epoch 2/10:(0.692 sec)  loss:0.002, val_loss:0.002\n",
      "Epoch 3/10:(0.686 sec)  loss:0.002, val_loss:0.002\n",
      "Epoch 4/10:(0.706 sec)  loss:0.002, val_loss:0.001\n",
      "Epoch 5/10:(0.717 sec)  loss:0.001, val_loss:0.001\n",
      "Epoch 6/10:(0.682 sec)  loss:0.001, val_loss:0.001\n",
      "Epoch 7/10:(0.683 sec)  loss:0.001, val_loss:0.001\n",
      "Epoch 8/10:(1.012 sec)  loss:0.001, val_loss:0.001\n",
      "Epoch 9/10:(0.666 sec)  loss:0.001, val_loss:0.001\n"
     ]
    }
   ],
   "source": [
    "lr = 0.001\n",
    "\n",
    "\n",
    "optimizer = torch.optim.Adam(lstm_model.parameters(), lr=lr)\n",
    "loss_fn = torch.nn.MSELoss()\n",
    "\n",
    "out = train_loop(train_dataloader = train_dataloader,\n",
    "                 val_dataloader = val_dataloader,\n",
    "                 patient = 3,\n",
    "                 epochs = 10,\n",
    "                 model = lstm_model,\n",
    "                 optimizer= optimizer,\n",
    "                 loss_fn= loss_fn)\n",
    "\n",
    "model, val_history_es_5, train_history_es_5, best_loss, best_epoch, best_weights = out"
   ],
   "metadata": {
    "collapsed": false,
    "ExecuteTime": {
     "end_time": "2023-12-17T13:16:31.456691400Z",
     "start_time": "2023-12-17T13:16:23.915697700Z"
    }
   },
   "id": "2685b0a2d5ca1b2c"
  },
  {
   "cell_type": "code",
   "execution_count": 66,
   "outputs": [],
   "source": [
    "test_data = next(iter(test_dataloader))\n",
    "loss = evaluation_step(lstm_model, test_data, loss_fn)"
   ],
   "metadata": {
    "collapsed": false,
    "ExecuteTime": {
     "end_time": "2023-12-17T13:19:30.107058Z",
     "start_time": "2023-12-17T13:19:30.029000500Z"
    }
   },
   "id": "ce7e5c68a8a39ed8"
  },
  {
   "cell_type": "code",
   "execution_count": 67,
   "outputs": [
    {
     "data": {
      "text/plain": "array(0.00077832, dtype=float32)"
     },
     "execution_count": 67,
     "metadata": {},
     "output_type": "execute_result"
    }
   ],
   "source": [
    "loss"
   ],
   "metadata": {
    "collapsed": false,
    "ExecuteTime": {
     "end_time": "2023-12-17T13:19:36.030622800Z",
     "start_time": "2023-12-17T13:19:35.935299200Z"
    }
   },
   "id": "c9868dbeefc86fd1"
  },
  {
   "cell_type": "code",
   "execution_count": 77,
   "outputs": [],
   "source": [
    "def prediction(model, input_data):\n",
    "    # when we use torch.no_grad pytorch doesn't store information\n",
    "    # that is required to calculate gradients so is faster\n",
    "    with torch.no_grad():\n",
    "        x_batch, y_batch = input_data\n",
    "        y_pred = model(x_batch)\n",
    "        \n",
    "    return y_pred"
   ],
   "metadata": {
    "collapsed": false,
    "ExecuteTime": {
     "end_time": "2023-12-17T13:34:12.437071900Z",
     "start_time": "2023-12-17T13:34:12.415892900Z"
    }
   },
   "id": "e011e1bead52dc08"
  },
  {
   "cell_type": "code",
   "execution_count": 88,
   "outputs": [],
   "source": [
    "final_prediction = prediction(lstm_model, test_data)\n",
    "mean_prediction = final_prediction.mean()\n",
    "_, target = test_data\n",
    "mean_target = target.mean()"
   ],
   "metadata": {
    "collapsed": false,
    "ExecuteTime": {
     "end_time": "2023-12-17T13:42:16.886595100Z",
     "start_time": "2023-12-17T13:42:16.870133100Z"
    }
   },
   "id": "29a43a5ec426c2f1"
  },
  {
   "cell_type": "code",
   "execution_count": 91,
   "outputs": [
    {
     "data": {
      "text/plain": "tensor(0.0014)"
     },
     "execution_count": 91,
     "metadata": {},
     "output_type": "execute_result"
    }
   ],
   "source": [
    "error = abs(mean_prediction - mean_target)\n",
    "error"
   ],
   "metadata": {
    "collapsed": false,
    "ExecuteTime": {
     "end_time": "2023-12-17T13:52:00.820163500Z",
     "start_time": "2023-12-17T13:52:00.772869600Z"
    }
   },
   "id": "a3326f7978698b27"
  },
  {
   "cell_type": "code",
   "execution_count": 96,
   "outputs": [
    {
     "data": {
      "text/plain": "tensor([[0.0035]])"
     },
     "execution_count": 96,
     "metadata": {},
     "output_type": "execute_result"
    }
   ],
   "source": [
    "data_france = read_data(\"./data/relative_wages_total.xlsx\")\n",
    "y_france = data_france[2021]\n",
    "X_france = data_france.drop(columns=[2021], axis=1)\n",
    "X_france, y_france = X_france.to_numpy(), y_france.to_numpy()\n",
    "X_france = X_france.reshape((-1, 9, 1))\n",
    "y_france = y_france.reshape((-1, 1))\n",
    "france_dataloader = get_dataloader(X_france, y_france, batch_size = y_france.shape[0], shuffle=True)\n",
    "france_data = next(iter(france_dataloader))\n",
    "france_prediction = prediction(lstm_model, france_data)\n",
    "_, target_france = france_data\n",
    "error_france = abs(france_prediction - target_france)\n",
    "error_france"
   ],
   "metadata": {
    "collapsed": false,
    "ExecuteTime": {
     "end_time": "2023-12-17T14:25:22.646132800Z",
     "start_time": "2023-12-17T14:25:22.588500800Z"
    }
   },
   "id": "da41db566c073053"
  },
  {
   "cell_type": "code",
   "execution_count": 110,
   "outputs": [
    {
     "data": {
      "text/plain": "tensor([[0.8553]])"
     },
     "execution_count": 110,
     "metadata": {},
     "output_type": "execute_result"
    }
   ],
   "source": [
    "france_prediction"
   ],
   "metadata": {
    "collapsed": false,
    "ExecuteTime": {
     "end_time": "2023-12-17T14:45:51.531327300Z",
     "start_time": "2023-12-17T14:45:51.495049Z"
    }
   },
   "id": "36075c1cb9931134"
  },
  {
   "cell_type": "markdown",
   "source": [
    "Prediction for France"
   ],
   "metadata": {
    "collapsed": false
   },
   "id": "2d5e0b7c9e19484d"
  },
  {
   "cell_type": "code",
   "execution_count": 132,
   "outputs": [
    {
     "data": {
      "text/plain": "<Figure size 640x480 with 1 Axes>",
      "image/png": "[encoded data removed]"
     },
     "metadata": {},
     "output_type": "display_data"
    }
   ],
   "source": [
    "X_correct = data_france.to_numpy()\n",
    "prediction_2021 = france_prediction.numpy()\n",
    "X_2020 = X_correct[0, :9]\n",
    "X_prediction_2021 = np.concatenate((X_2020, prediction_2021[0]))\n",
    "plt.plot(X_correct[0], label='Actual_relative_wage')\n",
    "plt.plot(X_prediction_2021, label='Predicted_relative_wage')\n",
    "plt.xlabel('Year')\n",
    "plt.ylabel('Relative Wage')\n",
    "plt.legend()\n",
    "plt.show()"
   ],
   "metadata": {
    "collapsed": false,
    "ExecuteTime": {
     "end_time": "2023-12-17T15:01:05.679017100Z",
     "start_time": "2023-12-17T15:01:05.501536900Z"
    }
   },
   "id": "ee8ea8509839ede2"
  },
  {
   "cell_type": "code",
   "execution_count": null,
   "outputs": [],
   "source": [],
   "metadata": {
    "collapsed": false
   },
   "id": "662d2fc9acd8ef14"
  }
 ],
 "metadata": {
  "kernelspec": {
   "display_name": "Python 3",
   "language": "python",
   "name": "python3"
  },
  "language_info": {
   "codemirror_mode": {
    "name": "ipython",
    "version": 2
   },
   "file_extension": ".py",
   "mimetype": "text/x-python",
   "name": "python",
   "nbconvert_exporter": "python",
   "pygments_lexer": "ipython2",
   "version": "2.7.6"
  }
 },
 "nbformat": 4,
 "nbformat_minor": 5
}
